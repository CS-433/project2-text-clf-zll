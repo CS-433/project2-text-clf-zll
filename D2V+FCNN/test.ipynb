{
 "cells": [
  {
   "cell_type": "code",
   "execution_count": 2,
   "id": "601abf69-c25d-42a5-af6a-97a6307e59bd",
   "metadata": {},
   "outputs": [],
   "source": [
    "import torch\n",
    "import pandas as pd\n",
    "import numpy as np\n",
    "import gensim\n",
    "from gensim import utils\n",
    "from gensim.models.doc2vec import Doc2Vec\n",
    "import torch.utils.data as Data\n",
    "import import_ipynb\n",
    "from FCNN import FullyConnectedNuralNetwork"
   ]
  },
  {
   "cell_type": "code",
   "execution_count": 3,
   "id": "f0615d80-9bdf-48a9-bef8-d59d666ed745",
   "metadata": {},
   "outputs": [
    {
     "name": "stdout",
     "output_type": "stream",
     "text": [
      "data shape：  (10000, 300)\n"
     ]
    }
   ],
   "source": [
    "df = pd.read_csv(\"../test.csv\")\n",
    "model = Doc2Vec.load('model_doc2vec')\n",
    "data = np.zeros((len(df),model.vector_size))\n",
    "for i,item in df.iterrows():\n",
    "    text = list(item['tweet'].split(' ') if type (item['tweet']) == str else str (item['tweet']))\n",
    "    data[i] = model.infer_vector(text)\n",
    "\n",
    "print(\"data shape： \", data.shape)\n",
    "test_x = torch.from_numpy(data.astype(np.float32))"
   ]
  },
  {
   "cell_type": "code",
   "execution_count": 5,
   "id": "b4c0e97d-ac00-4719-add2-4733a7b1f281",
   "metadata": {},
   "outputs": [],
   "source": [
    "FCNN = FullyConnectedNuralNetwork()\n",
    "FCNN = torch.load('./D2V_FCNN.pt')\n",
    "_,_,output = FCNN(test_x)\n",
    "_,pre=torch.max(output,1)"
   ]
  },
  {
   "cell_type": "code",
   "execution_count": 6,
   "id": "619e188a-f884-4d44-b4e6-bba8bed30e99",
   "metadata": {},
   "outputs": [],
   "source": [
    "pre_list = pre.numpy().tolist ()\n",
    "idx = [i for i in range(1,len(df)+1)]\n",
    "dict_ = {\n",
    "    \"Id\" : idx,\n",
    "    \"Prediction\" : pre_list\n",
    "}\n",
    "pred_df = pd.DataFrame(dict_)\n",
    "pred_df['Prediction'][pred_df['Prediction'] == 0] = -1\n",
    "pred_df.to_csv(\"pred.csv\",index = False)"
   ]
  },
  {
   "cell_type": "code",
   "execution_count": null,
   "id": "53e0065a-3448-4157-a199-6737b5a39146",
   "metadata": {},
   "outputs": [],
   "source": []
  }
 ],
 "metadata": {
  "kernelspec": {
   "display_name": "Python 3 (ipykernel)",
   "language": "python",
   "name": "python3"
  },
  "language_info": {
   "codemirror_mode": {
    "name": "ipython",
    "version": 3
   },
   "file_extension": ".py",
   "mimetype": "text/x-python",
   "name": "python",
   "nbconvert_exporter": "python",
   "pygments_lexer": "ipython3",
   "version": "3.9.7"
  }
 },
 "nbformat": 4,
 "nbformat_minor": 5
}
