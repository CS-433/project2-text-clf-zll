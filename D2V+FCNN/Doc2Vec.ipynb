{
 "cells": [
  {
   "cell_type": "code",
   "execution_count": 51,
   "id": "aff8ac1d-a713-4892-b5ea-48e0a1a1e1cc",
   "metadata": {},
   "outputs": [],
   "source": [
    "import gensim\n",
    "from gensim import utils\n",
    "from gensim.models.doc2vec import Doc2Vec\n",
    "TaggededDocument = gensim.models.doc2vec.TaggedDocument\n",
    "from nltk import word_tokenize\n",
    "import pandas as pd\n",
    "import numpy as np\n",
    "from random import shuffle\n",
    "from sklearn.linear_model import LogisticRegression\n",
    "import pickle\n",
    "import sys\n",
    "sys.path.append('..')\n",
    "from helpers import *"
   ]
  },
  {
   "cell_type": "markdown",
   "id": "e69bebd7-7ca9-4b62-a2ae-6202623208d1",
   "metadata": {},
   "source": [
    "## Generating the Corpus"
   ]
  },
  {
   "cell_type": "code",
   "execution_count": 14,
   "id": "77ac76ce-1128-4d4f-8433-c4ad368bd60f",
   "metadata": {},
   "outputs": [],
   "source": [
    "def get_cut_dataset(data):\n",
    "    '''\n",
    "    Generate corpus(using tokenized word list)\n",
    "    '''\n",
    "    corpus = []\n",
    "    documents = []\n",
    "    for idx, item in enumerate(data):\n",
    "        text = list(item.split(' ') if type (item) == str else str (item))\n",
    "        document = TaggededDocument(text, tags=[idx])\n",
    "        corpus.append(document)\n",
    "    print('len of corpus：', len(corpus))\n",
    "\n",
    "    return corpus"
   ]
  },
  {
   "cell_type": "code",
   "execution_count": 27,
   "id": "ecd4e0ed-9342-47a8-88e5-8db9fd9ba676",
   "metadata": {},
   "outputs": [],
   "source": [
    "DataPath = \"../part.csv\"\n",
    "df = pd.read_csv(DataPath)\n",
    "df1 = pd.read_csv(\"../test.csv\")"
   ]
  },
  {
   "cell_type": "code",
   "execution_count": 28,
   "id": "7c4818f5-eb41-4ed0-82e3-fde55f833dd5",
   "metadata": {},
   "outputs": [
    {
     "name": "stdout",
     "output_type": "stream",
     "text": [
      "len of corpus： 191292\n"
     ]
    }
   ],
   "source": [
    "df['tweet'].astype(str)\n",
    "df1['tweet'].astype(str)\n",
    "\n",
    "train_corpus = get_cut_dataset(pd.concat([df['tweet'],df1['tweet']],axis=0))"
   ]
  },
  {
   "cell_type": "markdown",
   "id": "ae4c6c16-3f47-4b36-804b-b36b340245f3",
   "metadata": {},
   "source": [
    "## Train model and save"
   ]
  },
  {
   "cell_type": "code",
   "execution_count": 45,
   "id": "f830dfbb-245e-458f-9926-2444cc60d23d",
   "metadata": {},
   "outputs": [
    {
     "name": "stdout",
     "output_type": "stream",
     "text": [
      "start train\n",
      "end train\n"
     ]
    }
   ],
   "source": [
    "def train(x_train, model_path , size=100, epoch_num=20, dm=1):\n",
    "    print('start train')\n",
    "    model_dm = Doc2Vec(x_train, min_count=10, window=10, vector_size=size, sample=1e-3, negative=5, workers=4, dm=dm)\n",
    "    model_dm.train(x_train, total_examples=model_dm.corpus_count, epochs=epoch_num)\n",
    "    model_dm.save(model_path)\n",
    "    print('end train')\n",
    "    return model_dm\n",
    "\n",
    "model_path = './model_doc2vec'\n",
    "model_doc2vec = train(train_corpus, model_path=model_path)"
   ]
  },
  {
   "cell_type": "markdown",
   "id": "ac3ff335-6ef6-4b59-82f2-d2104d45552c",
   "metadata": {},
   "source": [
    "## Inspecting the Model\n",
    "### Check the close synonyms"
   ]
  },
  {
   "cell_type": "code",
   "execution_count": 46,
   "id": "72d4b3a0-d57b-4d88-ae41-a547d5a9b765",
   "metadata": {},
   "outputs": [
    {
     "data": {
      "text/plain": [
       "[('fantastic', 0.5610108971595764),\n",
       " ('lovely', 0.5350937843322754),\n",
       " ('great', 0.48865360021591187),\n",
       " ('fab', 0.4556836187839508),\n",
       " ('wonderful', 0.4513000249862671),\n",
       " ('successful', 0.41335007548332214),\n",
       " ('enjoying', 0.4095670282840729),\n",
       " ('fabulous', 0.40703025460243225),\n",
       " ('sweetie', 0.40674567222595215),\n",
       " ('chilled', 0.3806166648864746)]"
      ]
     },
     "execution_count": 46,
     "metadata": {},
     "output_type": "execute_result"
    }
   ],
   "source": [
    "model_doc2vec = Doc2Vec.load('./model_doc2vec')\n",
    "model_doc2vec.wv.most_similar(positive=['good','nice'],negative=['bad','shit'])"
   ]
  },
  {
   "cell_type": "markdown",
   "id": "db68ed00-a839-44e0-bc58-5b87b4b5509c",
   "metadata": {},
   "source": [
    "### Check whether the closest tweet is itself"
   ]
  },
  {
   "cell_type": "code",
   "execution_count": 47,
   "id": "31e5ed54-faf6-4c76-a0be-1bc3f2f45aac",
   "metadata": {},
   "outputs": [
    {
     "name": "stdout",
     "output_type": "stream",
     "text": [
      "i dunno justin read my mention or not . only justin and god knows about that , but i hope you will follow me #believe 15  0.8694869875907898\n"
     ]
    }
   ],
   "source": [
    "str_ = \"i dunno justin read my mention or not . only justin and god knows about that , but i hope you will follow me #believe 15\"\n",
    "test_text = str_.split(' ')\n",
    "inferred_vector_dm = model_doc2vec.infer_vector(test_text)\n",
    "# print('inferred_vector_dm:', inferred_vector_dm)\n",
    "sims = model_doc2vec.dv.most_similar([inferred_vector_dm], topn=1)\n",
    "for count,sim in sims:\n",
    "    sentence = train_corpus[count]\n",
    "    words = ''\n",
    "    for word in sentence[0]:\n",
    "        words = words + word + ' '\n",
    "    print(words, sim)\n"
   ]
  },
  {
   "cell_type": "markdown",
   "id": "e17e6152-28be-4d6f-8051-f8c25ee36cdd",
   "metadata": {},
   "source": [
    "### Generate tweets presentation using Doc2Vec embedding"
   ]
  },
  {
   "cell_type": "code",
   "execution_count": 48,
   "id": "1037f3ed-0984-41f0-b93c-ac78b888e5d4",
   "metadata": {},
   "outputs": [
    {
     "name": "stdout",
     "output_type": "stream",
     "text": [
      "save to ./Doc2VecArray\n"
     ]
    }
   ],
   "source": [
    "data = np.zeros((len(df),model_doc2vec.vector_size))\n",
    "for i,item in df.iterrows():\n",
    "    text = list(item['tweet'].split(' ') if type (item['tweet']) == str else str (item['tweet']))\n",
    "    data[i] = model_doc2vec.infer_vector(text)\n",
    "\n",
    "np.save(\"./Doc2VecArray\", data)\n",
    "\n",
    "print(\"save to ./Doc2VecArray\")"
   ]
  },
  {
   "cell_type": "markdown",
   "id": "86eb913f-0467-4e45-b877-c739e37c978f",
   "metadata": {},
   "source": [
    "### Generate Word2Vec embeddings"
   ]
  },
  {
   "cell_type": "code",
   "execution_count": null,
   "id": "bed19f37-7cd5-4b8d-98b4-8e4ca7a1f814",
   "metadata": {},
   "outputs": [],
   "source": [
    "vocab_dim = model_doc2vec.vector_size\n",
    "\n",
    "index2word_set = set(model_doc2vec.wv.index_to_key)"
   ]
  },
  {
   "cell_type": "code",
   "execution_count": 67,
   "id": "80b5342e-4fa2-4e7e-9572-6a85981b60fa",
   "metadata": {},
   "outputs": [
    {
     "name": "stdout",
     "output_type": "stream",
     "text": [
      "save to ./Word2VecArray\n"
     ]
    }
   ],
   "source": [
    "f = open(\"vocab.pkl\", 'rb') \n",
    "index_dict = pickle.load(f)    # index dictionary {'word': idx}\n",
    "\n",
    "data = np.zeros((len(index_dict),model_doc2vec.vector_size))\n",
    "\n",
    "for key, value in index_dict.items():\n",
    "    if key in index2word_set:\n",
    "        data[value,:] = model_doc2vec[key]\n",
    "\n",
    "np.save(\"./Word2VecArray\", data)\n",
    "\n",
    "print(\"save to ./Word2VecArray\")"
   ]
  },
  {
   "cell_type": "code",
   "execution_count": 68,
   "id": "9d4b4351-f8d5-48c4-83de-9bb367da75c6",
   "metadata": {},
   "outputs": [
    {
     "data": {
      "text/plain": [
       "101298"
      ]
     },
     "execution_count": 68,
     "metadata": {},
     "output_type": "execute_result"
    }
   ],
   "source": [
    "len(data)"
   ]
  },
  {
   "cell_type": "code",
   "execution_count": 69,
   "id": "31198a21-7aa3-46da-9010-9d8229b5ba6a",
   "metadata": {},
   "outputs": [
    {
     "data": {
      "text/plain": [
       "101298"
      ]
     },
     "execution_count": 69,
     "metadata": {},
     "output_type": "execute_result"
    }
   ],
   "source": [
    "len(index_dict)"
   ]
  },
  {
   "cell_type": "code",
   "execution_count": null,
   "id": "041f3a4b-a859-46b0-89ab-bbd871682b60",
   "metadata": {},
   "outputs": [],
   "source": []
  }
 ],
 "metadata": {
  "kernelspec": {
   "display_name": "Python 3 (ipykernel)",
   "language": "python",
   "name": "python3"
  },
  "language_info": {
   "codemirror_mode": {
    "name": "ipython",
    "version": 3
   },
   "file_extension": ".py",
   "mimetype": "text/x-python",
   "name": "python",
   "nbconvert_exporter": "python",
   "pygments_lexer": "ipython3",
   "version": "3.9.7"
  }
 },
 "nbformat": 4,
 "nbformat_minor": 5
}
