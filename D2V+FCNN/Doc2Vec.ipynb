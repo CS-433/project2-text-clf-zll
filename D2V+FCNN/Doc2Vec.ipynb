{
 "cells": [
  {
   "cell_type": "code",
   "execution_count": 12,
   "id": "aff8ac1d-a713-4892-b5ea-48e0a1a1e1cc",
   "metadata": {},
   "outputs": [],
   "source": [
    "# gensim modules\n",
    "import gensim\n",
    "from gensim import utils\n",
    "from gensim.models.doc2vec import Doc2Vec\n",
    "TaggededDocument = gensim.models.doc2vec.TaggedDocument\n",
    "from nltk import word_tokenize\n",
    "import pandas as pd\n",
    "# numpy\n",
    "import numpy as np\n",
    "# random\n",
    "from random import shuffle\n",
    "# classifier\n",
    "from sklearn.linear_model import LogisticRegression"
   ]
  },
  {
   "cell_type": "markdown",
   "id": "e69bebd7-7ca9-4b62-a2ae-6202623208d1",
   "metadata": {},
   "source": [
    "## Generating the Corpus"
   ]
  },
  {
   "cell_type": "code",
   "execution_count": 13,
   "id": "77ac76ce-1128-4d4f-8433-c4ad368bd60f",
   "metadata": {},
   "outputs": [],
   "source": [
    "def get_cut_dataset(data):\n",
    "    '''\n",
    "    Generate corpus(using tokenized word list)\n",
    "    '''\n",
    "    corpus = []\n",
    "    documents = []\n",
    "    for idx, item in enumerate(data):\n",
    "        text = list(item.split(' ') if type (item) == str else str (item))\n",
    "        document = TaggededDocument(text, tags=[idx])\n",
    "        corpus.append(document)\n",
    "    print('len of corpus：', len(corpus))\n",
    "\n",
    "    return corpus"
   ]
  },
  {
   "cell_type": "code",
   "execution_count": 14,
   "id": "ecd4e0ed-9342-47a8-88e5-8db9fd9ba676",
   "metadata": {},
   "outputs": [],
   "source": [
    "DataPath = \"part.csv\"\n",
    "df = pd.read_csv(DataPath)"
   ]
  },
  {
   "cell_type": "code",
   "execution_count": 16,
   "id": "7c4818f5-eb41-4ed0-82e3-fde55f833dd5",
   "metadata": {},
   "outputs": [
    {
     "name": "stdout",
     "output_type": "stream",
     "text": [
      "len of corpus： 200000\n"
     ]
    }
   ],
   "source": [
    "df['tweet'].astype(str)\n",
    "train_corpus = get_cut_dataset(df['tweet'])"
   ]
  },
  {
   "cell_type": "markdown",
   "id": "ae4c6c16-3f47-4b36-804b-b36b340245f3",
   "metadata": {},
   "source": [
    "## Train model and save"
   ]
  },
  {
   "cell_type": "code",
   "execution_count": 138,
   "id": "f830dfbb-245e-458f-9926-2444cc60d23d",
   "metadata": {},
   "outputs": [
    {
     "name": "stdout",
     "output_type": "stream",
     "text": [
      "start train\n",
      "end train\n"
     ]
    }
   ],
   "source": [
    "def train(x_train, model_path , size=300, epoch_num=20, dm=1):\n",
    "    print('start train')\n",
    "    model_dm = Doc2Vec(x_train, min_count=20, window=5, vector_size=size, sample=1e-3, negative=5, workers=4, dm=dm)\n",
    "    model_dm.train(x_train, total_examples=model_dm.corpus_count, epochs=epoch_num)\n",
    "    model_dm.save(model_path)\n",
    "    print('end train')\n",
    "    return model_dm\n",
    "\n",
    "model_path = './model_doc2vec'\n",
    "model_doc2vec = train(train_corpus, model_path=model_path)"
   ]
  },
  {
   "cell_type": "markdown",
   "id": "ac3ff335-6ef6-4b59-82f2-d2104d45552c",
   "metadata": {},
   "source": [
    "## Inspecting the Model\n",
    "### Check the close synonyms"
   ]
  },
  {
   "cell_type": "code",
   "execution_count": 10,
   "id": "72d4b3a0-d57b-4d88-ae41-a547d5a9b765",
   "metadata": {},
   "outputs": [
    {
     "data": {
      "text/plain": [
       "[('awesome', 0.3016740083694458),\n",
       " ('great', 0.29568761587142944),\n",
       " ('fantastic', 0.2867523729801178),\n",
       " ('fab', 0.2615671157836914),\n",
       " ('interesting', 0.25876688957214355),\n",
       " ('goood', 0.2518990933895111),\n",
       " ('lovely', 0.24352069199085236),\n",
       " ('wonderful', 0.24207670986652374),\n",
       " ('perfect', 0.24012957513332367),\n",
       " ('sweet', 0.23417885601520538)]"
      ]
     },
     "execution_count": 10,
     "metadata": {},
     "output_type": "execute_result"
    }
   ],
   "source": [
    "model_doc2vec = Doc2Vec.load('./model_doc2vec')\n",
    "model_doc2vec.wv.most_similar(positive=['good','nice'],negative=['bad','shit'])"
   ]
  },
  {
   "cell_type": "markdown",
   "id": "db68ed00-a839-44e0-bc58-5b87b4b5509c",
   "metadata": {},
   "source": [
    "### Check whether the closest tweet is itself"
   ]
  },
  {
   "cell_type": "code",
   "execution_count": 17,
   "id": "31e5ed54-faf6-4c76-a0be-1bc3f2f45aac",
   "metadata": {},
   "outputs": [
    {
     "name": "stdout",
     "output_type": "stream",
     "text": [
      "dunno justin read mention not . only justin and god knows about that , but hope you will follow # believe 15  0.8183117508888245\n"
     ]
    }
   ],
   "source": [
    "str_ = \"i dunno justin read my mention or not . only justin and god knows about that , but i hope you will follow me #believe 15\"\n",
    "test_text = str_.split(' ')\n",
    "inferred_vector_dm = model_doc2vec.infer_vector(test_text)\n",
    "# print('inferred_vector_dm:', inferred_vector_dm)\n",
    "sims = model_doc2vec.dv.most_similar([inferred_vector_dm], topn=1)\n",
    "for count,sim in sims:\n",
    "    sentence = train_corpus[count]\n",
    "    words = ''\n",
    "    for word in sentence[0]:\n",
    "        words = words + word + ' '\n",
    "    print(words, sim)\n"
   ]
  },
  {
   "cell_type": "code",
   "execution_count": 29,
   "id": "1037f3ed-0984-41f0-b93c-ac78b888e5d4",
   "metadata": {},
   "outputs": [
    {
     "name": "stdout",
     "output_type": "stream",
     "text": [
      "save to ./Doc2VecArray\n"
     ]
    }
   ],
   "source": [
    "data = np.zeros((len(df),model.vector_size))\n",
    "for i,item in df.iterrows():\n",
    "    text = list(item['tweet'].split(' ') if type (item['tweet']) == str else str (item['tweet']))\n",
    "    data[i] = model.infer_vector(text)\n",
    "\n",
    "np.save(\"./Doc2VecArray\", data)\n",
    "\n",
    "print(\"save to ./Doc2VecArray\")"
   ]
  },
  {
   "cell_type": "code",
   "execution_count": 30,
   "id": "4b74ccc2-c4e5-4991-88a4-efe59b2ebfbf",
   "metadata": {},
   "outputs": [
    {
     "data": {
      "text/html": [
       "<div>\n",
       "<style scoped>\n",
       "    .dataframe tbody tr th:only-of-type {\n",
       "        vertical-align: middle;\n",
       "    }\n",
       "\n",
       "    .dataframe tbody tr th {\n",
       "        vertical-align: top;\n",
       "    }\n",
       "\n",
       "    .dataframe thead th {\n",
       "        text-align: right;\n",
       "    }\n",
       "</style>\n",
       "<table border=\"1\" class=\"dataframe\">\n",
       "  <thead>\n",
       "    <tr style=\"text-align: right;\">\n",
       "      <th></th>\n",
       "      <th>tweet</th>\n",
       "      <th>label</th>\n",
       "    </tr>\n",
       "  </thead>\n",
       "  <tbody>\n",
       "    <tr>\n",
       "      <th>0</th>\n",
       "      <td>dunno justin read mention not . only justin an...</td>\n",
       "      <td>1</td>\n",
       "    </tr>\n",
       "    <tr>\n",
       "      <th>1</th>\n",
       "      <td>because your logic dumb , n't even crop out yo...</td>\n",
       "      <td>1</td>\n",
       "    </tr>\n",
       "    <tr>\n",
       "      <th>2</th>\n",
       "      <td>`` just put casper box ! `` looved the battle ...</td>\n",
       "      <td>1</td>\n",
       "    </tr>\n",
       "    <tr>\n",
       "      <th>3</th>\n",
       "      <td>thanks sir &gt; &gt; n't trip lil mama ... just keep...</td>\n",
       "      <td>1</td>\n",
       "    </tr>\n",
       "    <tr>\n",
       "      <th>4</th>\n",
       "      <td>visiting brother tmr the bestest birthday gift...</td>\n",
       "      <td>1</td>\n",
       "    </tr>\n",
       "    <tr>\n",
       "      <th>...</th>\n",
       "      <td>...</td>\n",
       "      <td>...</td>\n",
       "    </tr>\n",
       "    <tr>\n",
       "      <th>199995</th>\n",
       "      <td>n't wait fake tan tonight ! hate being pale</td>\n",
       "      <td>0</td>\n",
       "    </tr>\n",
       "    <tr>\n",
       "      <th>199996</th>\n",
       "      <td>darling lost internet connection .. and 's see...</td>\n",
       "      <td>0</td>\n",
       "    </tr>\n",
       "    <tr>\n",
       "      <th>199997</th>\n",
       "      <td>kanguru defender basic 4 usb 2.0 flash drive k...</td>\n",
       "      <td>0</td>\n",
       "    </tr>\n",
       "    <tr>\n",
       "      <th>199998</th>\n",
       "      <td>rizan sad now</td>\n",
       "      <td>0</td>\n",
       "    </tr>\n",
       "    <tr>\n",
       "      <th>199999</th>\n",
       "      <td>text back ? yea , mad</td>\n",
       "      <td>0</td>\n",
       "    </tr>\n",
       "  </tbody>\n",
       "</table>\n",
       "<p>200000 rows × 2 columns</p>\n",
       "</div>"
      ],
      "text/plain": [
       "                                                    tweet  label\n",
       "0       dunno justin read mention not . only justin an...      1\n",
       "1       because your logic dumb , n't even crop out yo...      1\n",
       "2       `` just put casper box ! `` looved the battle ...      1\n",
       "3       thanks sir > > n't trip lil mama ... just keep...      1\n",
       "4       visiting brother tmr the bestest birthday gift...      1\n",
       "...                                                   ...    ...\n",
       "199995        n't wait fake tan tonight ! hate being pale      0\n",
       "199996  darling lost internet connection .. and 's see...      0\n",
       "199997  kanguru defender basic 4 usb 2.0 flash drive k...      0\n",
       "199998                                      rizan sad now      0\n",
       "199999                              text back ? yea , mad      0\n",
       "\n",
       "[200000 rows x 2 columns]"
      ]
     },
     "execution_count": 30,
     "metadata": {},
     "output_type": "execute_result"
    }
   ],
   "source": [
    "df"
   ]
  },
  {
   "cell_type": "code",
   "execution_count": null,
   "id": "8a984e97-e600-4451-a249-46d5542dddf2",
   "metadata": {},
   "outputs": [],
   "source": []
  }
 ],
 "metadata": {
  "kernelspec": {
   "display_name": "Python 3 (ipykernel)",
   "language": "python",
   "name": "python3"
  },
  "language_info": {
   "codemirror_mode": {
    "name": "ipython",
    "version": 3
   },
   "file_extension": ".py",
   "mimetype": "text/x-python",
   "name": "python",
   "nbconvert_exporter": "python",
   "pygments_lexer": "ipython3",
   "version": "3.9.7"
  }
 },
 "nbformat": 4,
 "nbformat_minor": 5
}
