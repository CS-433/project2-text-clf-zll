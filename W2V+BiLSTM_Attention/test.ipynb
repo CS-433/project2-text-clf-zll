{
 "cells": [
  {
   "cell_type": "code",
   "execution_count": 2,
   "id": "4c47d705-a601-41de-ac94-bfa5e9081e07",
   "metadata": {},
   "outputs": [],
   "source": [
    "import torch\n",
    "import pandas as pd\n",
    "import numpy as np\n",
    "import pickle\n",
    "import torch.utils.data as Data\n",
    "import import_ipynb\n",
    "from LSTM import *\n",
    "import sys\n",
    "sys.path.append('..')\n",
    "from helpers import *"
   ]
  },
  {
   "cell_type": "code",
   "execution_count": 3,
   "id": "72bbf413-6e08-44b3-a1d7-7b36844bcfc7",
   "metadata": {},
   "outputs": [
    {
     "name": "stdout",
     "output_type": "stream",
     "text": [
      "data shape：  (10000, 20, 100)\n"
     ]
    }
   ],
   "source": [
    "vocab_dim = 100\n",
    "maxlen = 20\n",
    "\n",
    "embedding_weights = np.load(\"Word2VecArray.npy\") \n",
    "# Set a zero vector for words that do not appear in the vocabulary\n",
    "embedding_weights = np.r_[np.zeros((1, vocab_dim)),embedding_weights]\n",
    "\n",
    "f = open(\"../Glove/vocab.pkl\", 'rb') \n",
    "index_dict = pickle.load(f)    # index dictionary {'word': idx}\n",
    "\n",
    "# Index each word + 1 because of the zero vector\n",
    "for key, value in index_dict.items():  \n",
    "    index_dict[key] = value + 1 \n",
    "\n",
    "data = []\n",
    "with open(\"../twitter-datasets/test_data.txt\", \"r\", encoding='UTF-8') as f:\n",
    "    for line in f:\n",
    "        line = line.replace(\"\\t\", \"\").replace(\"<user>\", \"\").replace(\"\\n\", \"\").replace(\"<url>\", \"\")\n",
    "        data.append(line)\n",
    "        \n",
    "from torch.nn.utils.rnn import pad_sequence\n",
    "data = text_to_index_array(index_dict, data)\n",
    "data = pad_sequence([torch.from_numpy(np.array(x)) for x in data],batch_first=True).float() \n",
    "data = text_cut_to_same_long(data,maxlen)\n",
    "data = creat_wordvec_tensor(embedding_weights,data,100,20)\n",
    "\n",
    "print(\"data shape： \", data.shape)"
   ]
  },
  {
   "cell_type": "code",
   "execution_count": 5,
   "id": "5ad146ba-a03e-478c-9ade-3bfc4f62459c",
   "metadata": {},
   "outputs": [],
   "source": [
    "model = lstm()\n",
    "model = torch.load('./W2V_LSTM.pt',map_location=torch.device('cpu'))\n",
    "data = torch.as_tensor(data, dtype=torch.float32)\n",
    "output,_ = model(data)\n",
    "pre=torch.argmax(output, dim=1)"
   ]
  },
  {
   "cell_type": "code",
   "execution_count": 6,
   "id": "03d7766a-9400-45a4-b664-e5f38a1ff2b8",
   "metadata": {},
   "outputs": [],
   "source": [
    "pre_list = pre.numpy().tolist ()\n",
    "idx = [i for i in range(1,len(pre)+1)]\n",
    "dict_ = {\n",
    "    \"Id\" : idx,\n",
    "    \"Prediction\" : pre_list\n",
    "}\n",
    "pred_df = pd.DataFrame(dict_)\n",
    "pred_df['Prediction'][pred_df['Prediction'] == 0] = -1\n",
    "pred_df.to_csv(\"pred.csv\",index = False)"
   ]
  },
  {
   "cell_type": "code",
   "execution_count": null,
   "id": "9c3ddb7c-bb8f-4d35-aec3-e1da78959e84",
   "metadata": {},
   "outputs": [],
   "source": []
  }
 ],
 "metadata": {
  "kernelspec": {
   "display_name": "Python 3 (ipykernel)",
   "language": "python",
   "name": "python3"
  },
  "language_info": {
   "codemirror_mode": {
    "name": "ipython",
    "version": 3
   },
   "file_extension": ".py",
   "mimetype": "text/x-python",
   "name": "python",
   "nbconvert_exporter": "python",
   "pygments_lexer": "ipython3",
   "version": "3.9.7"
  }
 },
 "nbformat": 4,
 "nbformat_minor": 5
}
