{
 "cells": [
  {
   "cell_type": "code",
   "execution_count": 1,
   "id": "0bea1194-7126-4b44-86e3-30fad9fa96ef",
   "metadata": {},
   "outputs": [],
   "source": [
    "import numpy as np\n",
    "import pandas as pd\n",
    "import pickle\n",
    "from sklearn.datasets import load_breast_cancer\n",
    "from sklearn.model_selection import train_test_split\n",
    "from sklearn.metrics import classification_report, roc_auc_score\n",
    "from sklearn.model_selection import GridSearchCV\n",
    "from sklearn.model_selection import cross_val_score\n",
    "import sys\n",
    "sys.path.append('..')\n",
    "from helpers import *"
   ]
  },
  {
   "cell_type": "code",
   "execution_count": 2,
   "id": "aef8ee67-06c0-4c3f-95ca-4d422a70eba0",
   "metadata": {},
   "outputs": [],
   "source": [
    "vocab_dim = 20 \n",
    "maxlen = 25  # Maximum length of text retention\n",
    "   \n",
    "embedding_weights = np.load(\"embeddings.npy\") \n",
    "# Set a zero vector for words that do not appear in the vocabulary\n",
    "embedding_weights = np.r_[np.zeros((1, vocab_dim)),embedding_weights]\n",
    "\n",
    "f = open(\"vocab.pkl\", 'rb') \n",
    "index_dict = pickle.load(f)    # index dictionary {'word': idx}\n",
    "\n",
    "# Index each word + 1 because of the zero vector\n",
    "for key, value in index_dict.items():  \n",
    "    index_dict[key] = value + 1 \n",
    "\n",
    "with open(\"../twitter-datasets/train_neg.txt\", \"r\", encoding='UTF-8') as f:\n",
    "    neg_data = f.readlines()\n",
    "with open(\"../twitter-datasets/train_pos.txt\", \"r\", encoding='UTF-8') as f:\n",
    "    pos_data = f.readlines()\n",
    "    \n",
    "data = neg_data + pos_data\n",
    "\n",
    "label_list = ([0] * len(neg_data) + [1] * len(pos_data))\n",
    "\n",
    "\n",
    "data = text_to_index_array(index_dict, data)\n",
    "labels = np.array(label_list) \n",
    "data = creat_wordvec_mean_tensor(embedding_weights,data)\n",
    "\n",
    "train_x,val_x,train_y,val_y = train_test_split(data, labels, test_size=0.2)"
   ]
  },
  {
   "cell_type": "code",
   "execution_count": 3,
   "id": "39d2594e-6880-47d1-a0cd-c71dc9653ea5",
   "metadata": {},
   "outputs": [
    {
     "name": "stdout",
     "output_type": "stream",
     "text": [
      "using LR, Best: 0.623648 using {'C': 2}\n",
      "--- report ---\n",
      "              precision    recall  f1-score   support\n",
      "\n",
      "           0       0.59      0.53      0.56     20016\n",
      "           1       0.58      0.64      0.60     19984\n",
      "\n",
      "    accuracy                           0.58     40000\n",
      "   macro avg       0.58      0.58      0.58     40000\n",
      "weighted avg       0.58      0.58      0.58     40000\n",
      "\n",
      "--- auc ---\n",
      "0.5837163935784919\n"
     ]
    }
   ],
   "source": [
    "from sklearn.linear_model import LogisticRegression as LR\n",
    "\n",
    "\n",
    "grid_values = {'C': [1e-2,1e-1,1,2]}\n",
    "\n",
    "clf = GridSearchCV(LR(penalty='l2', random_state=0, max_iter=3000,),\n",
    "                           grid_values, scoring='roc_auc', cv=20,n_jobs=4)\n",
    "\n",
    "clf.fit(train_x, train_y)\n",
    "print(\"using LR, Best: %f using %s\" %\n",
    "      (clf.best_score_, clf.best_params_))\n",
    "\n",
    "clf = clf.best_estimator_\n",
    "\n",
    "pred_y = clf.predict(val_x)\n",
    "\n",
    "print('--- report ---')\n",
    "print(classification_report(val_y, pred_y))\n",
    "\n",
    "print('--- auc ---')\n",
    "print(roc_auc_score(val_y, pred_y))"
   ]
  },
  {
   "cell_type": "code",
   "execution_count": 4,
   "id": "676907b4-e9b8-4a59-b500-ecbece651642",
   "metadata": {},
   "outputs": [
    {
     "name": "stdout",
     "output_type": "stream",
     "text": [
      "--- report ---\n",
      "              precision    recall  f1-score   support\n",
      "\n",
      "           0       0.71      0.49      0.58     20016\n",
      "           1       0.61      0.80      0.69     19984\n",
      "\n",
      "    accuracy                           0.65     40000\n",
      "   macro avg       0.66      0.65      0.64     40000\n",
      "weighted avg       0.66      0.65      0.64     40000\n",
      "\n",
      "--- auc ---\n",
      "0.6456221331981653\n"
     ]
    }
   ],
   "source": [
    "from sklearn.ensemble import RandomForestClassifier\n",
    "\n",
    "clf = RandomForestClassifier(n_estimators=800,max_depth=20)\n",
    "clf.fit(train_x, train_y)\n",
    "pred_y = clf.predict(val_x)\n",
    "\n",
    "print('--- report ---')\n",
    "print(classification_report(val_y, pred_y))\n",
    "\n",
    "print('--- auc ---')\n",
    "print(roc_auc_score(val_y, pred_y))"
   ]
  },
  {
   "cell_type": "code",
   "execution_count": null,
   "id": "24f925bb-8a41-4831-aa6f-8e4858ae2d6e",
   "metadata": {},
   "outputs": [],
   "source": []
  }
 ],
 "metadata": {
  "kernelspec": {
   "display_name": "Python 3 (ipykernel)",
   "language": "python",
   "name": "python3"
  },
  "language_info": {
   "codemirror_mode": {
    "name": "ipython",
    "version": 3
   },
   "file_extension": ".py",
   "mimetype": "text/x-python",
   "name": "python",
   "nbconvert_exporter": "python",
   "pygments_lexer": "ipython3",
   "version": "3.9.7"
  }
 },
 "nbformat": 4,
 "nbformat_minor": 5
}
