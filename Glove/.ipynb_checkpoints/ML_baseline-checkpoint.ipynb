{
 "cells": [
  {
   "cell_type": "code",
   "execution_count": 1,
   "id": "0bea1194-7126-4b44-86e3-30fad9fa96ef",
   "metadata": {},
   "outputs": [],
   "source": [
    "import numpy as np\n",
    "import pandas as pd\n",
    "from sklearn.datasets import load_breast_cancer\n",
    "from sklearn.model_selection import train_test_split\n",
    "from sklearn.metrics import classification_report, roc_auc_score\n",
    "from sklearn.model_selection import GridSearchCV\n",
    "from sklearn.model_selection import cross_val_score\n",
    "from gensim.models.doc2vec import Doc2Vec\n"
   ]
  },
  {
   "cell_type": "code",
   "execution_count": 2,
   "id": "74bba5e3-212a-45fb-8adf-aee3ec689ea3",
   "metadata": {},
   "outputs": [
    {
     "name": "stdout",
     "output_type": "stream",
     "text": [
      "data shape：  (178370, 300)\n",
      "label shape：  (178370,)\n",
      "training set shape：  (142696, 300)\n",
      "validation set shape：  (35674, 300)\n"
     ]
    }
   ],
   "source": [
    "data_x = np.load(\"./Doc2VecArray_prep.npy\")\n",
    "# data_x_pos = data_x[:87365]\n",
    "# data_x_neg = data_x[87365:]\n",
    "89256\n",
    "data_x_pos = data_x[:89256]\n",
    "data_x_neg = data_x[89256:]\n",
    "data = np.append(data_x_pos,data_x_neg,axis=0)\n",
    "\n",
    "print(\"data shape： \", data.shape)\n",
    "\n",
    "label_list = ([1] * len(data_x_pos) + [0] * len(data_x_neg))\n",
    "labels = np.array(label_list)\n",
    "print(\"label shape： \", labels.shape)\n",
    "\n",
    "train_x,val_x,train_y,val_y = train_test_split(data, labels, test_size=0.2)\n",
    "\n",
    "print(\"training set shape： \", train_x.shape)\n",
    "print(\"validation set shape： \", val_x.shape)"
   ]
  },
  {
   "cell_type": "code",
   "execution_count": 3,
   "id": "39d2594e-6880-47d1-a0cd-c71dc9653ea5",
   "metadata": {},
   "outputs": [
    {
     "name": "stdout",
     "output_type": "stream",
     "text": [
      "using LR, Best: 0.779551 using {'C': 1}\n",
      "--- report ---\n",
      "              precision    recall  f1-score   support\n",
      "\n",
      "           0       0.71      0.72      0.71     17906\n",
      "           1       0.71      0.70      0.70     17768\n",
      "\n",
      "    accuracy                           0.71     35674\n",
      "   macro avg       0.71      0.71      0.71     35674\n",
      "weighted avg       0.71      0.71      0.71     35674\n",
      "\n",
      "--- auc ---\n",
      "0.7086247385101234\n"
     ]
    }
   ],
   "source": [
    "from sklearn.linear_model import LogisticRegression as LR\n",
    "\n",
    "\n",
    "grid_values = {'C': [1e-2,1e-1,1,2]}\n",
    "\n",
    "clf = GridSearchCV(LR(penalty='l2', random_state=0, max_iter=3000,),\n",
    "                           grid_values, scoring='roc_auc', cv=20,n_jobs=4)\n",
    "\n",
    "clf.fit(train_x, train_y)\n",
    "print(\"using LR, Best: %f using %s\" %\n",
    "      (clf.best_score_, clf.best_params_))\n",
    "\n",
    "clf = clf.best_estimator_\n",
    "\n",
    "pred_y = clf.predict(val_x)\n",
    "\n",
    "print('--- report ---')\n",
    "print(classification_report(val_y, pred_y))\n",
    "\n",
    "print('--- auc ---')\n",
    "print(roc_auc_score(val_y, pred_y))"
   ]
  },
  {
   "cell_type": "code",
   "execution_count": 11,
   "id": "bbde2053-1e41-4af6-8e83-77b5bbb7d397",
   "metadata": {},
   "outputs": [
    {
     "name": "stdout",
     "output_type": "stream",
     "text": [
      "data shape：  (10000, 300)\n"
     ]
    }
   ],
   "source": [
    "df_test = pd.read_csv(\"test.csv\")\n",
    "model = Doc2Vec.load('./model_doc2vec')\n",
    "data = np.zeros((len(df_test),model.vector_size))\n",
    "for i,item in df_test.iterrows():\n",
    "    text = list(item['tweet'].split(' ') if type (item['tweet']) == str else str (item['tweet']))\n",
    "    data[i] = model.infer_vector(text)\n",
    "\n",
    "print(\"data shape： \", data.shape)\n",
    "\n",
    "pred = clf.predict(data)\n",
    "pre_list = pred.tolist ()\n",
    "idx = [i for i in range(1,len(pre_list)+1)]\n",
    "dict_ = {\n",
    "    \"Id\" : idx,\n",
    "    \"Prediction\" : pre_list\n",
    "}\n",
    "pred_df = pd.DataFrame(dict_)\n",
    "pred_df['Prediction'][pred_df['Prediction'] == 0] = -1\n",
    "pred_df.to_csv(\"pred_LR.csv\",index = False)"
   ]
  },
  {
   "cell_type": "code",
   "execution_count": 28,
   "id": "df3f6601-bd2d-4e85-aaa0-bfaa64bd182b",
   "metadata": {},
   "outputs": [
    {
     "name": "stdout",
     "output_type": "stream",
     "text": [
      "20 Fold CV Score for Multinomial Naive Bayes: 0.749234\n",
      "--- report ---\n",
      "              precision    recall  f1-score   support\n",
      "\n",
      "           0       0.69      0.67      0.68     20078\n",
      "           1       0.68      0.70      0.69     19922\n",
      "\n",
      "    accuracy                           0.69     40000\n",
      "   macro avg       0.69      0.69      0.69     40000\n",
      "weighted avg       0.69      0.69      0.69     40000\n",
      "\n",
      "--- auc ---\n",
      "0.6870984757678165\n"
     ]
    }
   ],
   "source": [
    "from sklearn.naive_bayes import MultinomialNB as MNB\n",
    "from sklearn import preprocessing\n",
    "\n",
    "def min_max_normalization(np_array):\n",
    "    min_max_scaler = preprocessing.MinMaxScaler()\n",
    "    ret = min_max_scaler.fit_transform(np_array)\n",
    "    return ret\n",
    "\n",
    "clf = MNB()\n",
    "X_train = min_max_normalization(train_x)\n",
    "clf.fit(X_train, train_y)\n",
    "print(\"20 Fold CV Score for Multinomial Naive Bayes: %f\" % (np.mean(cross_val_score\n",
    "                                                                    (clf, X_train, train_y, cv=20, scoring='roc_auc'))))\n",
    "pred_y = clf.predict(min_max_normalization(val_x))\n",
    "\n",
    "print('--- report ---')\n",
    "print(classification_report(val_y, pred_y))\n",
    "\n",
    "print('--- auc ---')\n",
    "print(roc_auc_score(val_y, pred_y))"
   ]
  },
  {
   "cell_type": "code",
   "execution_count": 31,
   "id": "02c2d939-f5df-428f-90d8-6ba869bead6e",
   "metadata": {},
   "outputs": [
    {
     "name": "stdout",
     "output_type": "stream",
     "text": [
      "using SGD, Best: 0.775810 using {'alpha': 0.1}\n",
      "--- report ---\n",
      "              precision    recall  f1-score   support\n",
      "\n",
      "           0       0.70      0.74      0.72     20078\n",
      "           1       0.72      0.68      0.70     19922\n",
      "\n",
      "    accuracy                           0.71     40000\n",
      "   macro avg       0.71      0.71      0.71     40000\n",
      "weighted avg       0.71      0.71      0.71     40000\n",
      "\n",
      "--- auc ---\n",
      "0.7066859486932797\n"
     ]
    }
   ],
   "source": [
    "from sklearn.linear_model import SGDClassifier as SGD\n",
    "\n",
    "# Find out which regularization parameter works the best.\n",
    "sgd_params = {'alpha': [1e-1,0.5,1,1.5]}\n",
    "\n",
    "clf = GridSearchCV(SGD(max_iter=10, random_state=0,loss='modified_huber',n_jobs=4),sgd_params, scoring='roc_auc', cv=20)  \n",
    "\n",
    "clf.fit(train_x, train_y)\n",
    "print(\"using SGD, Best: %f using %s\" %\n",
    "      (clf.best_score_, clf.best_params_))\n",
    "\n",
    "clf = clf.best_estimator_\n",
    "\n",
    "pred_y = clf.predict(val_x)\n",
    "\n",
    "print('--- report ---')\n",
    "print(classification_report(val_y, pred_y))\n",
    "\n",
    "print('--- auc ---')\n",
    "print(roc_auc_score(val_y, pred_y))"
   ]
  },
  {
   "cell_type": "code",
   "execution_count": 29,
   "id": "3d33b343-bde9-4c4e-91e0-f42bb6d95f1a",
   "metadata": {},
   "outputs": [
    {
     "name": "stdout",
     "output_type": "stream",
     "text": [
      "--- report ---\n",
      "              precision    recall  f1-score   support\n",
      "\n",
      "           0       0.73      0.72      0.73     20078\n",
      "           1       0.72      0.73      0.73     19922\n",
      "\n",
      "    accuracy                           0.73     40000\n",
      "   macro avg       0.73      0.73      0.73     40000\n",
      "weighted avg       0.73      0.73      0.73     40000\n",
      "\n",
      "--- auc ---\n",
      "0.7270013651907645\n"
     ]
    }
   ],
   "source": [
    "from sklearn.ensemble import RandomForestClassifier\n",
    "\n",
    "clf = RandomForestClassifier(n_estimators=800,max_depth=20)\n",
    "clf.fit(train_x, train_y)\n",
    "pred_y = clf.predict(val_x)\n",
    "\n",
    "print('--- report ---')\n",
    "print(classification_report(val_y, pred_y))\n",
    "\n",
    "print('--- auc ---')\n",
    "print(roc_auc_score(val_y, pred_y))"
   ]
  },
  {
   "cell_type": "code",
   "execution_count": null,
   "id": "676907b4-e9b8-4a59-b500-ecbece651642",
   "metadata": {},
   "outputs": [],
   "source": [
    "from sklearn.svm import SVC\n",
    "\n",
    "parameters = [{'kernel': ['rbf'], 'gamma': [1e-2,0.005,1e-3],\n",
    "                       'C': [0.5,1,1.5,2]},\n",
    "                      {'kernel': ['linear'], 'C': [1e-2,0.1,1]}]\n",
    "clf = GridSearchCV(\n",
    "    SVC(probability=True),\n",
    "    parameters,\n",
    "    cv=5,\n",
    "    scoring=\"roc_auc\",\n",
    "    n_jobs=4\n",
    ")\n",
    "clf.fit(train_x, train_y)\n",
    "print(\"using SVM, Best: %f using %s\" %\n",
    "      (clf.best_score_, clf.best_params_))\n",
    "\n",
    "clf = clf.best_estimator_\n",
    "\n",
    "pred_y = clf.predict(val_x)\n",
    "\n",
    "print('--- report ---')\n",
    "print(classification_report(val_y, pred_y))\n",
    "\n",
    "print('--- auc ---')\n",
    "print(roc_auc_score(val_y, pred_y))"
   ]
  },
  {
   "cell_type": "code",
   "execution_count": null,
   "id": "d3e84258-7f73-4acd-9cbc-2a92fe5cb2ff",
   "metadata": {},
   "outputs": [],
   "source": [
    "from sklearn.ensemble import GradientBoostingClassifier\n",
    "\n",
    "clf = GradientBoostingClassifier(n_estimators=800,max_depth=20)\n",
    "clf.fit(train_x, train_y)\n",
    "pred_y = clf.predict(val_x)\n",
    "\n",
    "print('--- report ---')\n",
    "print(classification_report(val_y, pred_y))\n",
    "\n",
    "print('--- auc ---')\n",
    "print(roc_auc_score(val_y, pred_y))"
   ]
  },
  {
   "cell_type": "code",
   "execution_count": null,
   "id": "71c2afe2-3f64-4d6b-ae05-1d632c0bbfee",
   "metadata": {},
   "outputs": [],
   "source": [
    "import xgboost as xgb\n",
    "\n",
    "cv_params = {'max_depth': [7,9,10], 'min_child_weight': [1, 3, 5]}\n",
    "ind_params = {'learning_rate': 0.1, 'n_estimators': 700, 'seed': 0, 'subsample': 0.8, 'colsample_bytree': 0.8,\n",
    "              'objective': 'binary:logistic'}\n",
    "clf = GridSearchCV(xgb.XGBClassifier(**ind_params),\n",
    "                   cv_params,\n",
    "                   scoring='roc_auc', cv=5, n_jobs=4,verbose=True)\n",
    "clf.fit(train_x, train_y)\n",
    "\n",
    "print(\"using sgdboot, Best: %f using %s\" %\n",
    "      (clf.best_score_, clf.best_params_))\n",
    "\n",
    "clf = clf.best_estimator_\n",
    "\n",
    "pred_y = clf.predict(val_x)\n",
    "\n",
    "print('--- report ---')\n",
    "print(classification_report(val_y, pred_y))\n",
    "\n",
    "print('--- auc ---')\n",
    "print(roc_auc_score(val_y, pred_y))"
   ]
  }
 ],
 "metadata": {
  "kernelspec": {
   "display_name": "Python 3 (ipykernel)",
   "language": "python",
   "name": "python3"
  },
  "language_info": {
   "codemirror_mode": {
    "name": "ipython",
    "version": 3
   },
   "file_extension": ".py",
   "mimetype": "text/x-python",
   "name": "python",
   "nbconvert_exporter": "python",
   "pygments_lexer": "ipython3",
   "version": "3.9.7"
  }
 },
 "nbformat": 4,
 "nbformat_minor": 5
}
